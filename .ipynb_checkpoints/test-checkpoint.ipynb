{
 "cells": [
  {
   "cell_type": "code",
   "execution_count": 5,
   "metadata": {},
   "outputs": [],
   "source": [
    "from data_loader import load_small_data\n",
    "from gurobipy import *\n"
   ]
  },
  {
   "cell_type": "code",
   "execution_count": 42,
   "metadata": {},
   "outputs": [
    {
     "name": "stdout",
     "output_type": "stream",
     "text": [
      "{'horizon': 5, 'qualifications': ['A', 'B', 'C'], 'staff': [{'name': 'Olivia', 'qualifications': ['A', 'B', 'C'], 'vacations': []}, {'name': 'Liam', 'qualifications': ['A', 'B'], 'vacations': [1]}, {'name': 'Emma', 'qualifications': ['C'], 'vacations': [2]}], 'jobs': [{'name': 'Job1', 'gain': 20, 'due_date': 3, 'daily_penalty': 3, 'working_days_per_qualification': {'A': 1, 'B': 1, 'C': 1}}, {'name': 'Job2', 'gain': 15, 'due_date': 3, 'daily_penalty': 3, 'working_days_per_qualification': {'A': 1, 'B': 2}}, {'name': 'Job3', 'gain': 15, 'due_date': 4, 'daily_penalty': 3, 'working_days_per_qualification': {'A': 1, 'C': 2}}, {'name': 'Job4', 'gain': 20, 'due_date': 3, 'daily_penalty': 3, 'working_days_per_qualification': {'B': 2, 'C': 1}}, {'name': 'Job5', 'gain': 10, 'due_date': 5, 'daily_penalty': 3, 'working_days_per_qualification': {'C': 2}}]}\n"
     ]
    }
   ],
   "source": [
    "instance = load_small_data()\n",
    "print(instance)"
   ]
  },
  {
   "cell_type": "code",
   "execution_count": 7,
   "metadata": {},
   "outputs": [
    {
     "data": {
      "text/plain": [
       "[['A', 'B', 'C'], ['A', 'B'], ['C']]"
      ]
     },
     "execution_count": 7,
     "metadata": {},
     "output_type": "execute_result"
    }
   ],
   "source": [
    "def create_staff_qualifications(data):\n",
    "    E = [] #Staff qualifications\n",
    "    for staff_member in data['staff']:\n",
    "        E.append(staff_member['qualifications'])\n",
    "    return E\n",
    "\n",
    "create_staff_qualifications(toy_instance)"
   ]
  },
  {
   "cell_type": "code",
   "execution_count": 19,
   "metadata": {},
   "outputs": [
    {
     "name": "stdout",
     "output_type": "stream",
     "text": [
      "[[1, 1, 1], [1, 2, 0], [1, 0, 2], [0, 2, 1], [0, 0, 2]]\n"
     ]
    }
   ],
   "source": [
    "def working_days_per_qualification(data):\n",
    "    CP = list() #Staff qualifications\n",
    "    for job in data['jobs']:\n",
    "        CPi = list()\n",
    "        for qualification in data['qualifications']:\n",
    "            if qualification in job['working_days_per_qualification']:\n",
    "                CPi.append(job['working_days_per_qualification'][qualification])\n",
    "            else:\n",
    "                CPi.append(0)\n",
    "        CP.append(CPi)\n",
    "    return CP\n",
    "\n",
    "qualification_per_job = working_days_per_qualification(toy_instance)\n",
    "print(qualification_per_job)"
   ]
  },
  {
   "cell_type": "code",
   "execution_count": 39,
   "metadata": {},
   "outputs": [],
   "source": [
    "def is_project_finished(theorie, pratic):\n",
    "    finished_project = list()\n",
    "    for i in range (len(theorie)): \n",
    "        finished_project_i = list()\n",
    "        for j in range (len(theorie[i])):\n",
    "            if theorie[i][j]<=pratic[i][j]:\n",
    "                finished_project_i.append(1)\n",
    "            else:\n",
    "                finished_project_i.append(0)\n",
    "        finished_project.append(min(finished_project_i))\n",
    "    return finished_project"
   ]
  },
  {
   "cell_type": "code",
   "execution_count": 41,
   "metadata": {},
   "outputs": [
    {
     "data": {
      "text/plain": [
       "[0, 1, 1, 1, 1]"
      ]
     },
     "execution_count": 41,
     "metadata": {},
     "output_type": "execute_result"
    }
   ],
   "source": [
    "pratique = [[1, 1, 0], [1, 2, 0], [1, 0, 2], [0, 2, 1], [0, 0, 2]]\n",
    "is_project_finished(qualification_per_job,pratique)"
   ]
  },
  {
   "cell_type": "code",
   "execution_count": 1,
   "metadata": {},
   "outputs": [
    {
     "ename": "SyntaxError",
     "evalue": "invalid syntax (332830158.py, line 8)",
     "output_type": "error",
     "traceback": [
      "\u001b[1;36m  Input \u001b[1;32mIn [1]\u001b[1;36m\u001b[0m\n\u001b[1;33m    for t in range(instance['horizon'])\u001b[0m\n\u001b[1;37m                                       ^\u001b[0m\n\u001b[1;31mSyntaxError\u001b[0m\u001b[1;31m:\u001b[0m invalid syntax\n"
     ]
    }
   ],
   "source": [
    "m = Model(\"Simple PL modelling\")\n",
    "# Création de 2 variables continues v0 et v1\n",
    "\n",
    "planning=[]\n",
    "nb_pers = len(instance['staff'])\n",
    "nb_proj = len(instance['jobs'])\n",
    "nb_comp = len(instance['qualication'])\n",
    "horizon = instance['horizon']\n",
    "\n",
    "for pers in instance['staff']:\n",
    "    row = []\n",
    "    for t in range(horizon)\n",
    "        row.append({'competence':m.addVar(lb=0,ub=nb_comp-1,vtype=GRB.INTEGER, name=pers['name']+''+str(t)+'_competence'),'projet':m.addVar(lb=0,ub=nb_proj-1,vtype=GRB.INTEGER, name=pers['name']+''+str(t)+'_projet')})\n",
    "    planning.append(row)\n",
    "\n",
    "    \n",
    "\n",
    "\n",
    "    \n",
    "      \n",
    "# maj du modèle\n",
    "m.update()\n",
    "\n",
    "# Ajout de 3 constraintes \n",
    "def get_finish_project(plan):\n",
    "    jobs = instance['jobs']\n",
    "    for t in range(horizon):\n",
    "        for p in range(nb_pers):\n",
    "            plan[]\n",
    "\n",
    "for i in range(len(instance['staff'])):\n",
    "    for t in range(instance['horizon'])\n",
    "        row.append(m.addVar(lb=0,ub=1,vtype=GRB.INTEGER))\n",
    "    planning.append(row)\n",
    "\n",
    "      \n",
    "# maj du modèle\n",
    "m.update()\n",
    "\n",
    "# Ajout de 3 constraintes \n",
    "def gain(L_proj,instance):\n",
    "    s = 0\n",
    "    for i in range(len(L_proj)):\n",
    "        s = s + L_proj[i]*instance['jobs'][i]['gain']\n",
    "    return s\n",
    "\n",
    "def nb_proj(L_proj):\n",
    "    return sum(L_proj)\n",
    "\n",
    "m.addConstr(nb_proj(L) == 3)\n",
    "\n",
    "m.update()\n",
    "# Fonction Objectif\n",
    "m.setObjective(gain(L,instance), GRB.MAXIMIZE)  \n",
    "\n",
    "# Paramétrage (mode mute)\n",
    "#m.params.outputflag = 0\n",
    "\n",
    "\n",
    "\n",
    "#m.update()\n",
    "# Affichage en mode texte du PL\n",
    "print(m.display())\n",
    "\n",
    "\n",
    "# Résolution du PL\n",
    "m.optimize()"
   ]
  },
  {
   "cell_type": "code",
   "execution_count": 53,
   "metadata": {
    "scrolled": true
   },
   "outputs": [
    {
     "name": "stdout",
     "output_type": "stream",
     "text": [
      "<class 'gurobipy.Var'>\n"
     ]
    },
    {
     "ename": "TypeError",
     "evalue": "list indices must be integers or slices, not Var",
     "output_type": "error",
     "traceback": [
      "\u001b[1;31m---------------------------------------------------------------------------\u001b[0m",
      "\u001b[1;31mTypeError\u001b[0m                                 Traceback (most recent call last)",
      "Input \u001b[1;32mIn [53]\u001b[0m, in \u001b[0;36m<cell line: 85>\u001b[1;34m()\u001b[0m\n\u001b[0;32m     83\u001b[0m m\u001b[38;5;241m.\u001b[39mupdate()\n\u001b[0;32m     84\u001b[0m \u001b[38;5;66;03m# Fonction Objectif\u001b[39;00m\n\u001b[1;32m---> 85\u001b[0m m\u001b[38;5;241m.\u001b[39msetObjective(\u001b[43mgain\u001b[49m\u001b[43m(\u001b[49m\u001b[43mplanning\u001b[49m\u001b[43m)\u001b[49m, GRB\u001b[38;5;241m.\u001b[39mMAXIMIZE)  \n\u001b[0;32m     87\u001b[0m \u001b[38;5;66;03m# Paramétrage (mode mute)\u001b[39;00m\n\u001b[0;32m     88\u001b[0m \u001b[38;5;66;03m#m.params.outputflag = 0\u001b[39;00m\n\u001b[0;32m     89\u001b[0m \n\u001b[1;32m   (...)\u001b[0m\n\u001b[0;32m     92\u001b[0m \u001b[38;5;66;03m#m.update()\u001b[39;00m\n\u001b[0;32m     93\u001b[0m \u001b[38;5;66;03m# Affichage en mode texte du PL\u001b[39;00m\n\u001b[0;32m     94\u001b[0m \u001b[38;5;28mprint\u001b[39m(m\u001b[38;5;241m.\u001b[39mdisplay())\n",
      "Input \u001b[1;32mIn [53]\u001b[0m, in \u001b[0;36mgain\u001b[1;34m(plan)\u001b[0m\n\u001b[0;32m     76\u001b[0m \u001b[38;5;28;01mdef\u001b[39;00m \u001b[38;5;21mgain\u001b[39m(plan):\n\u001b[1;32m---> 77\u001b[0m     timeline_project \u001b[38;5;241m=\u001b[39m \u001b[43mget_finish_project\u001b[49m\u001b[43m(\u001b[49m\u001b[43mplan\u001b[49m\u001b[43m,\u001b[49m\u001b[43m \u001b[49m\u001b[43mCP\u001b[49m\u001b[43m)\u001b[49m\n\u001b[0;32m     78\u001b[0m     g \u001b[38;5;241m=\u001b[39m compute_gain(timeline_project, instance)\n\u001b[0;32m     79\u001b[0m     \u001b[38;5;28;01mreturn\u001b[39;00m g\n",
      "Input \u001b[1;32mIn [53]\u001b[0m, in \u001b[0;36mget_finish_project\u001b[1;34m(plan, CP)\u001b[0m\n\u001b[0;32m     58\u001b[0m pers \u001b[38;5;241m=\u001b[39m plan[p][t]\n\u001b[0;32m     59\u001b[0m \u001b[38;5;28mprint\u001b[39m(\u001b[38;5;28mtype\u001b[39m(pers[\u001b[38;5;124m'\u001b[39m\u001b[38;5;124mproject\u001b[39m\u001b[38;5;124m'\u001b[39m]))\n\u001b[1;32m---> 60\u001b[0m \u001b[43mcomp_done\u001b[49m\u001b[43m[\u001b[49m\u001b[43mpers\u001b[49m\u001b[43m[\u001b[49m\u001b[38;5;124;43m'\u001b[39;49m\u001b[38;5;124;43mproject\u001b[39;49m\u001b[38;5;124;43m'\u001b[39;49m\u001b[43m]\u001b[49m\u001b[43m]\u001b[49m[pers[\u001b[38;5;124m'\u001b[39m\u001b[38;5;124mcompetence\u001b[39m\u001b[38;5;124m'\u001b[39m]\u001b[38;5;241m.\u001b[39mx] \u001b[38;5;241m+\u001b[39m\u001b[38;5;241m=\u001b[39m \u001b[38;5;241m1\u001b[39m\n\u001b[0;32m     61\u001b[0m list_finish \u001b[38;5;241m=\u001b[39m is_project_finish(CP, comp_done)\n\u001b[0;32m     62\u001b[0m \u001b[38;5;28;01mfor\u001b[39;00m i \u001b[38;5;129;01min\u001b[39;00m \u001b[38;5;28mrange\u001b[39m(\u001b[38;5;28mlen\u001b[39m(list_finish)):\n",
      "\u001b[1;31mTypeError\u001b[0m: list indices must be integers or slices, not Var"
     ]
    }
   ],
   "source": [
    "m = Model(\"Simple PL modelling\")\n",
    "# Création de 2 variables continues v0 et v1\n",
    "\n",
    "planning=[]\n",
    "nb_pers = len(instance['staff'])\n",
    "nb_proj = len(instance['jobs'])\n",
    "nb_comp = len(instance['qualifications'])\n",
    "horizon = instance['horizon']\n",
    "\n",
    " \n",
    "def working_days_per_qualification(data):\n",
    "    CP = list() \n",
    "    for job in data['jobs']:\n",
    "        CPi = list()\n",
    "        for qualification in data['qualifications']:\n",
    "            if qualification in job['working_days_per_qualification']:\n",
    "                CPi.append(job['working_days_per_qualification'][qualification])\n",
    "            else:\n",
    "                CPi.append(0)\n",
    "        CP.append(CPi)\n",
    "    return CP\n",
    "\n",
    "working_days_per_qualification = working_days_per_qualification(instance)\n",
    "\n",
    "for pers in instance['staff']:\n",
    "    row = []\n",
    "    for t in range(horizon):\n",
    "        row.append({'competence':m.addVar(lb=0,ub=nb_comp-1,vtype=GRB.INTEGER, name=pers['name']+''+str(t)+'_competence'),'project':m.addVar(lb=0,ub=nb_proj-1,vtype=GRB.INTEGER, name=pers['name']+''+str(t)+'_project')})\n",
    "    planning.append(row)\n",
    "\n",
    "\n",
    "\n",
    "      \n",
    "# maj du modèle\n",
    "m.update()\n",
    "\n",
    "# Ajout de 3 constraintes \n",
    "\n",
    "def is_project_finished(theorie, pratic):\n",
    "    finished_project = list()\n",
    "    for i in range (len(theorie)): \n",
    "        finished_project_i = list()\n",
    "        for j in range (len(theorie[i])):\n",
    "            if theorie[i][j]<=pratic[i][j]:\n",
    "                finished_project_i.append(1)\n",
    "            else:\n",
    "                finished_project_i.append(0)\n",
    "        finished_project.append(min(finished_project_i))\n",
    "    return finished_project\n",
    "\n",
    "\n",
    "def get_finish_project(plan, CP):\n",
    "    res = [-1 for x in range(nb_proj)]\n",
    "    jobs = instance['jobs']\n",
    "    comp_done = [[0 for x in range(nb_comp)] for y in range(nb_proj)]\n",
    "    for t in range(horizon):\n",
    "        for p in range(nb_pers):\n",
    "            pers = plan[p][t]\n",
    "            print(type(pers['project']))\n",
    "            comp_done[pers['project']][pers['competence'].x] += 1\n",
    "            list_finish = is_project_finish(CP, comp_done)\n",
    "            for i in range(len(list_finish)):\n",
    "                if proj[i]==1 and res[i] != 1:\n",
    "                    res[i]=t\n",
    "    return res\n",
    "        \n",
    "def compute_gain(projects_done, data):\n",
    "    gain = 0\n",
    "    for i in range(len(projects_done)):\n",
    "        g = projects_done[i]\n",
    "        job = data['jobs'][i]\n",
    "        if g > -1:\n",
    "            gain += job['gain'] + min(0, (job['due_date'] - g) * job['daily_penalty'])\n",
    "    return gain    \n",
    "    \n",
    "def gain(plan):\n",
    "    timeline_project = get_finish_project(plan, CP)\n",
    "    g = compute_gain(timeline_project, instance)\n",
    "    return g\n",
    "\n",
    "#m.addConstr(cgain() == 3)\n",
    "\n",
    "m.update()\n",
    "# Fonction Objectif\n",
    "m.setObjective(gain(planning), GRB.MAXIMIZE)  \n",
    "\n",
    "# Paramétrage (mode mute)\n",
    "#m.params.outputflag = 0\n",
    "\n",
    "\n",
    "\n",
    "#m.update()\n",
    "# Affichage en mode texte du PL\n",
    "print(m.display())\n",
    "\n",
    "\n",
    "# Résolution du PL\n",
    "m.optimize()"
   ]
  },
  {
   "cell_type": "code",
   "execution_count": null,
   "metadata": {},
   "outputs": [],
   "source": [
    "for i in range(nb_proj):\n",
    "    for t in range(horizon):\n",
    "        m.addConstr(progress(t,i,c) >= working_days_per_qualification[i][c]  >> L_P[i][t] == 1 for c in range(nb_comp))\n",
    "        \n",
    "def progress(T,p,c):\n",
    "    progress=0\n",
    "    for t in range(T):\n",
    "        for i in range(nb_pers):\n",
    "            progress += planning[i][t][p][c]\n",
    "            \n",
    "            \n",
    "def transfer_gain():\n",
    "    res = []\n",
    "    for i in range(nb_proj):\n",
    "        res.append(horizon - sum(L_P[i]) + 1)\n",
    "    return res"
   ]
  },
  {
   "cell_type": "code",
   "execution_count": 78,
   "metadata": {},
   "outputs": [
    {
     "name": "stdout",
     "output_type": "stream",
     "text": [
      "<MVar (5,)>\n",
      "array([<gurobi.Var *Awaiting Model Update*>,\n",
      "       <gurobi.Var *Awaiting Model Update*>,\n",
      "       <gurobi.Var *Awaiting Model Update*>,\n",
      "       <gurobi.Var *Awaiting Model Update*>,\n",
      "       <gurobi.Var *Awaiting Model Update*>])\n",
      "<MVar ()>\n",
      "array(<gurobi.Var C250>)\n"
     ]
    },
    {
     "ename": "TypeError",
     "evalue": "unsupported operand type(s) for *: 'MLinExpr' and 'GenExprMin'",
     "output_type": "error",
     "traceback": [
      "\u001b[1;31m---------------------------------------------------------------------------\u001b[0m",
      "\u001b[1;31mTypeError\u001b[0m                                 Traceback (most recent call last)",
      "Input \u001b[1;32mIn [78]\u001b[0m, in \u001b[0;36m<cell line: 95>\u001b[1;34m()\u001b[0m\n\u001b[0;32m     93\u001b[0m m\u001b[38;5;241m.\u001b[39mupdate()\n\u001b[0;32m     94\u001b[0m \u001b[38;5;66;03m# Fonction Objectif\u001b[39;00m\n\u001b[1;32m---> 95\u001b[0m m\u001b[38;5;241m.\u001b[39msetObjective(\u001b[43mgain\u001b[49m\u001b[43m(\u001b[49m\u001b[43mL_P\u001b[49m\u001b[43m)\u001b[49m, GRB\u001b[38;5;241m.\u001b[39mMAXIMIZE)  \n\u001b[0;32m     98\u001b[0m \u001b[38;5;66;03m# Résolution du PL\u001b[39;00m\n\u001b[0;32m     99\u001b[0m m\u001b[38;5;241m.\u001b[39moptimize()\n",
      "Input \u001b[1;32mIn [78]\u001b[0m, in \u001b[0;36mgain\u001b[1;34m(LP)\u001b[0m\n\u001b[0;32m     89\u001b[0m \u001b[38;5;28;01mdef\u001b[39;00m \u001b[38;5;21mgain\u001b[39m(LP):\n\u001b[1;32m---> 90\u001b[0m     \u001b[38;5;28;01mreturn\u001b[39;00m \u001b[43mcompute_gain\u001b[49m\u001b[43m(\u001b[49m\u001b[43mtransfer_gain\u001b[49m\u001b[43m(\u001b[49m\u001b[43mLP\u001b[49m\u001b[43m)\u001b[49m\u001b[43m,\u001b[49m\u001b[43minstance\u001b[49m\u001b[43m)\u001b[49m\n",
      "Input \u001b[1;32mIn [78]\u001b[0m, in \u001b[0;36mcompute_gain\u001b[1;34m(projects_done, data)\u001b[0m\n\u001b[0;32m     83\u001b[0m     \u001b[38;5;66;03m#if g <= horizon :\u001b[39;00m\n\u001b[0;32m     84\u001b[0m     \u001b[38;5;66;03m# gain += job['gain'] + min(0, (job['due_date'] - g) * job['daily_penalty'])     \u001b[39;00m\n\u001b[0;32m     85\u001b[0m     \u001b[38;5;28mprint\u001b[39m(gain_min[i])\n\u001b[1;32m---> 86\u001b[0m     gain \u001b[38;5;241m+\u001b[39m\u001b[38;5;241m=\u001b[39m \u001b[43mmin_\u001b[49m\u001b[43m(\u001b[49m\u001b[43mhorizon\u001b[49m\u001b[43m \u001b[49m\u001b[38;5;241;43m+\u001b[39;49m\u001b[43m \u001b[49m\u001b[38;5;241;43m1\u001b[39;49m\u001b[43m \u001b[49m\u001b[38;5;241;43m-\u001b[39;49m\u001b[43m \u001b[49m\u001b[43mg\u001b[49m\u001b[43m,\u001b[49m\u001b[43m \u001b[49m\u001b[38;5;241;43m1\u001b[39;49m\u001b[43m)\u001b[49m\u001b[38;5;241;43m*\u001b[39;49m\u001b[43m(\u001b[49m\u001b[43mjob\u001b[49m\u001b[43m[\u001b[49m\u001b[38;5;124;43m'\u001b[39;49m\u001b[38;5;124;43mgain\u001b[39;49m\u001b[38;5;124;43m'\u001b[39;49m\u001b[43m]\u001b[49m\u001b[43m \u001b[49m\u001b[38;5;241;43m+\u001b[39;49m\u001b[43m \u001b[49m\u001b[43mgain_min\u001b[49m\u001b[43m[\u001b[49m\u001b[43mi\u001b[49m\u001b[43m]\u001b[49m\u001b[43m \u001b[49m\u001b[38;5;241;43m*\u001b[39;49m\u001b[43m \u001b[49m\u001b[43mjob\u001b[49m\u001b[43m[\u001b[49m\u001b[38;5;124;43m'\u001b[39;49m\u001b[38;5;124;43mdaily_penalty\u001b[39;49m\u001b[38;5;124;43m'\u001b[39;49m\u001b[43m]\u001b[49m\u001b[43m)\u001b[49m  \n\u001b[0;32m     87\u001b[0m \u001b[38;5;28;01mreturn\u001b[39;00m gain\n",
      "File \u001b[1;32msrc\\gurobipy\\mlinexpr.pxi:1749\u001b[0m, in \u001b[0;36mgurobipy.MLinExpr.__rmul__\u001b[1;34m()\u001b[0m\n",
      "\u001b[1;31mTypeError\u001b[0m: unsupported operand type(s) for *: 'MLinExpr' and 'GenExprMin'"
     ]
    }
   ],
   "source": [
    "m = Model(\"Simple PL modelling\")\n",
    "# Création de 2 variables continues v0 et v1\n",
    "\n",
    "planning=[]\n",
    "nb_pers = len(instance['staff'])\n",
    "nb_proj = len(instance['jobs'])\n",
    "nb_comp = len(instance['qualifications'])\n",
    "horizon = instance['horizon']\n",
    "\n",
    " \n",
    "def working_days_per_qualification(data):\n",
    "    CP = list() \n",
    "    for job in data['jobs']:\n",
    "        CPi = list()\n",
    "        for qualification in data['qualifications']:\n",
    "            if qualification in job['working_days_per_qualification']:\n",
    "                CPi.append(job['working_days_per_qualification'][qualification])\n",
    "            else:\n",
    "                CPi.append(0)\n",
    "        CP.append(CPi)\n",
    "    return CP\n",
    "\n",
    "CP = working_days_per_qualification(instance)\n",
    "\n",
    "\n",
    "for pers in instance['staff']:\n",
    "    row = []\n",
    "    for t in range(horizon):\n",
    "        proj=[]\n",
    "        for p in range(nb_proj):\n",
    "            comp = []\n",
    "            for c in range(nb_comp):\n",
    "                comp.append(m.addVar(lb=0,ub=1,vtype=GRB.INTEGER, name=pers['name']+'_time:'+str(t)+'_comp:'+str(c)+'_proj:'+str(p)))\n",
    "            proj.append(comp)      \n",
    "        row.append(proj)\n",
    "    planning.append(row)\n",
    "    \n",
    "\n",
    "\n",
    "L_P = []\n",
    "for i in range(nb_proj):\n",
    "    row = []\n",
    "    for t in range(horizon):                     \n",
    "        row.append(m.addVar(lb=0,ub=1,vtype=GRB.INTEGER, name='Project:'+str(i)+'_time:'+str(t)))\n",
    "    L_P.append(row)\n",
    "      \n",
    "# maj du modèle\n",
    "m.update()\n",
    "\n",
    "        \n",
    "def progress(plan,T,p,c):\n",
    "    prog=0\n",
    "    for t in range(T):\n",
    "        for i in range(nb_pers):\n",
    "            prog += plan[i][t][p][c]\n",
    "    return prog\n",
    "\n",
    "#for i in range(nb_proj):\n",
    "    #for t in range(horizon):\n",
    "        #m.addConstr((progress(planning,t,i,0) >= CP[i][0])  >> (L_P[i][t] == 1))\n",
    "        #m.addConstr((plan[i][t][0][0] >= CP[i][0])  >> (L_P[i][t] == 1))\n",
    "\n",
    "#m.addConstr(planning[0][0][0][0]==1)\n",
    "gain_min = m.addMVar(nb_proj)\n",
    "print(gain_min)\n",
    "for i in range(nb_proj):\n",
    "    m.addConstr((gain_min[i] == min_(1, 0)) )\n",
    "\n",
    "\n",
    "# objective function\n",
    "\n",
    "def transfer_gain(LP):\n",
    "    res = []\n",
    "    for i in range(nb_proj):\n",
    "        res.append(horizon - sum(LP[i]) + 1)\n",
    "    return res\n",
    "\n",
    "def compute_gain(projects_done, data):\n",
    "    gain = 0\n",
    "    for i in range(len(projects_done)):\n",
    "        g = projects_done[i]\n",
    "        job = data['jobs'][i]\n",
    "        #if g <= horizon :\n",
    "        # gain += job['gain'] + min(0, (job['due_date'] - g) * job['daily_penalty'])     \n",
    "        print(gain_min[i])\n",
    "        gain += min_(horizon + 1 - g, 1)*(job['gain'] + gain_min[i] * job['daily_penalty'])  \n",
    "    return gain\n",
    "\n",
    "def gain(LP):\n",
    "    return compute_gain(transfer_gain(LP),instance)\n",
    "    \n",
    "\n",
    "m.update()\n",
    "# Fonction Objectif\n",
    "m.setObjective(gain(L_P), GRB.MAXIMIZE)  \n",
    "\n",
    "\n",
    "# Résolution du PL\n",
    "m.optimize()"
   ]
  },
  {
   "cell_type": "code",
   "execution_count": null,
   "metadata": {},
   "outputs": [],
   "source": [
    "# Create variables\n",
    "x = m.addVar(ub=10, vtype=GRB.CONTINUOUS, name=\"x\")\n",
    "y = m.addVar(ub=5, vtype=GRB.CONTINUOUS, name=\"y\")\n",
    "gain = m.addVar(vtype=GRB.CONTINUOUS, name=\"z\")\n",
    "w1 = m.addVar(vtype=GRB.CONTINUOUS, name=\"w1\")\n",
    "w2 = m.addVar(vtype=GRB.CONTINUOUS, name=\"w2\")\n",
    "b = m.addVar(vtype=GRB.BINARY, name=\"b\")\n",
    "\n",
    "# Constants\n",
    "eps = 0.0001\n",
    "M = 10 + eps # smallest possible given bounds on x and y\n",
    "\n",
    "# Model if x > y, then b = 1, otherwise b = 0\n",
    "m.addConstr(x >= y + eps - M * (1 - b), name=\"bigM_constr1\")\n",
    "m.addConstr(x <= y + M * b, name=\"bigM_constr2\")\n",
    "\n",
    "# Add indicator constraints\n",
    "m.addConstr((b == 1) >> (z == w1), name=\"indicator_constr1\")\n",
    "m.addConstr((b == 0) >> (z == w2), name=\"indicator_constr2\")\n"
   ]
  }
 ],
 "metadata": {
  "kernelspec": {
   "display_name": "Python 3 (ipykernel)",
   "language": "python",
   "name": "python3"
  },
  "language_info": {
   "codemirror_mode": {
    "name": "ipython",
    "version": 3
   },
   "file_extension": ".py",
   "mimetype": "text/x-python",
   "name": "python",
   "nbconvert_exporter": "python",
   "pygments_lexer": "ipython3",
   "version": "3.9.12"
  },
  "vscode": {
   "interpreter": {
    "hash": "cf92aa13fedf815d5c8dd192b8d835913fde3e8bc926b2a0ad6cc74ef2ba3ca2"
   }
  }
 },
 "nbformat": 4,
 "nbformat_minor": 2
}
