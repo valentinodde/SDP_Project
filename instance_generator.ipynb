{
 "cells": [
  {
   "cell_type": "code",
   "execution_count": 12,
   "metadata": {},
   "outputs": [],
   "source": [
    "from data_loader import *\n",
    "import random"
   ]
  },
  {
   "cell_type": "code",
   "execution_count": 2,
   "metadata": {},
   "outputs": [
    {
     "data": {
      "text/plain": [
       "{'horizon': 5,\n",
       " 'qualifications': ['A', 'B', 'C'],\n",
       " 'staff': [{'name': 'Olivia',\n",
       "   'qualifications': ['A', 'B', 'C'],\n",
       "   'vacations': []},\n",
       "  {'name': 'Liam', 'qualifications': ['A', 'B'], 'vacations': [1]},\n",
       "  {'name': 'Emma', 'qualifications': ['C'], 'vacations': [2]}],\n",
       " 'jobs': [{'name': 'Job1',\n",
       "   'gain': 20,\n",
       "   'due_date': 3,\n",
       "   'daily_penalty': 3,\n",
       "   'working_days_per_qualification': {'A': 1, 'B': 1, 'C': 1}},\n",
       "  {'name': 'Job2',\n",
       "   'gain': 15,\n",
       "   'due_date': 3,\n",
       "   'daily_penalty': 3,\n",
       "   'working_days_per_qualification': {'A': 1, 'B': 2}},\n",
       "  {'name': 'Job3',\n",
       "   'gain': 15,\n",
       "   'due_date': 4,\n",
       "   'daily_penalty': 3,\n",
       "   'working_days_per_qualification': {'A': 1, 'C': 2}},\n",
       "  {'name': 'Job4',\n",
       "   'gain': 20,\n",
       "   'due_date': 3,\n",
       "   'daily_penalty': 3,\n",
       "   'working_days_per_qualification': {'B': 2, 'C': 1}},\n",
       "  {'name': 'Job5',\n",
       "   'gain': 10,\n",
       "   'due_date': 5,\n",
       "   'daily_penalty': 3,\n",
       "   'working_days_per_qualification': {'C': 2}}]}"
      ]
     },
     "execution_count": 2,
     "metadata": {},
     "output_type": "execute_result"
    }
   ],
   "source": [
    "load_small_data()"
   ]
  },
  {
   "cell_type": "code",
   "execution_count": 33,
   "metadata": {},
   "outputs": [],
   "source": [
    "def create_new_instance(horizon, number_of_employe, number_of_projects, number_of_qualification):\n",
    "    instance = dict()\n",
    "    qualifications = 'ABCDEFGHIJKLMNOPQRSTUVWXYZ'\n",
    "    instance['horizon'] = horizon\n",
    "    instance['qualifications'] = [qualification for a,qualification in enumerate(qualifications[0:number_of_qualification])]\n",
    "    instance['staff'] = list()\n",
    "    for employe in range (number_of_employe):\n",
    "        instance['staff'].append(dict())\n",
    "        instance['staff'][employe]['name'] = 'employe_' + str(employe)\n",
    "        instance['staff'][employe]['qualifications'] = random.sample(instance['qualifications'], random.randint(0, number_of_qualification))\n",
    "        number_of_vacation_days = random.randint(0, horizon//3)\n",
    "        possible_vacation_days = [day for day in range(horizon)]\n",
    "        instance['staff'][employe]['vacations'] = random.sample(possible_vacation_days, random.randint(0, number_of_vacation_days))\n",
    "    instance['jobs'] = list()\n",
    "    for job in range (number_of_projects):\n",
    "        instance['jobs'].append(dict())\n",
    "        instance['jobs'][job]['name'] = 'job_' + str(job)\n",
    "        instance['jobs'][job]['gain'] = random.randint(10, 30)\n",
    "        instance['jobs'][job]['due_date'] = random.randint(horizon//3, horizon)\n",
    "        instance['jobs'][job]['daily_penalty'] = random.randint(1, 5)\n",
    "        instance['jobs'][job]['working_days_per_qualification'] = dict()\n",
    "        qualifications_for_the_job = random.sample(instance['qualifications'], random.randint(0, number_of_qualification))\n",
    "        number_of_days_for_the_job = 0\n",
    "        for qualification_for_the_job in qualifications_for_the_job:\n",
    "            if horizon - number_of_days_for_the_job - len(qualifications_for_the_job) > 1:\n",
    "                number_of_days_for_this_competence = random.randint(1, horizon - number_of_days_for_the_job - len(qualifications_for_the_job))\n",
    "            else:\n",
    "                number_of_days_for_this_competence = 1\n",
    "            instance['jobs'][job]['working_days_per_qualification'][qualification_for_the_job] = number_of_days_for_this_competence\n",
    "            number_of_days_for_the_job += number_of_days_for_this_competence\n",
    "    return instance\n"
   ]
  },
  {
   "cell_type": "code",
   "execution_count": 34,
   "metadata": {},
   "outputs": [
    {
     "name": "stdout",
     "output_type": "stream",
     "text": [
      "{'horizon': 15, 'qualifications': ['A', 'B', 'C', 'D', 'E', 'F', 'G'], 'staff': [{'name': 'employe_0', 'qualifications': ['A', 'B', 'C', 'E', 'G'], 'vacations': [13, 0]}, {'name': 'employe_1', 'qualifications': ['F', 'C', 'E', 'D', 'B', 'A', 'G'], 'vacations': [7, 13, 12]}, {'name': 'employe_2', 'qualifications': ['F'], 'vacations': []}, {'name': 'employe_3', 'qualifications': ['A', 'G'], 'vacations': [13, 4]}, {'name': 'employe_4', 'qualifications': ['B', 'A', 'D', 'C'], 'vacations': []}], 'jobs': [{'name': 'job_0', 'gain': 30, 'due_date': 14, 'daily_penalty': 1, 'working_days_per_qualification': {'E': 5, 'B': 3, 'A': 1, 'C': 1}}, {'name': 'job_1', 'gain': 30, 'due_date': 12, 'daily_penalty': 4, 'working_days_per_qualification': {'E': 4, 'B': 2, 'D': 4, 'A': 1, 'C': 1}}, {'name': 'job_2', 'gain': 18, 'due_date': 11, 'daily_penalty': 4, 'working_days_per_qualification': {'E': 4, 'G': 4, 'C': 1, 'B': 1, 'F': 1, 'D': 1, 'A': 1}}, {'name': 'job_3', 'gain': 23, 'due_date': 14, 'daily_penalty': 1, 'working_days_per_qualification': {'B': 7, 'E': 1, 'F': 1, 'D': 1, 'C': 1, 'G': 1}}, {'name': 'job_4', 'gain': 15, 'due_date': 5, 'daily_penalty': 1, 'working_days_per_qualification': {'E': 7}}]}\n"
     ]
    }
   ],
   "source": [
    "print(create_new_instance(15, 5, 5, 7))"
   ]
  }
 ],
 "metadata": {
  "kernelspec": {
   "display_name": "Python 3",
   "language": "python",
   "name": "python3"
  },
  "language_info": {
   "codemirror_mode": {
    "name": "ipython",
    "version": 3
   },
   "file_extension": ".py",
   "mimetype": "text/x-python",
   "name": "python",
   "nbconvert_exporter": "python",
   "pygments_lexer": "ipython3",
   "version": "3.9.6 (tags/v3.9.6:db3ff76, Jun 28 2021, 15:26:21) [MSC v.1929 64 bit (AMD64)]"
  },
  "orig_nbformat": 4,
  "vscode": {
   "interpreter": {
    "hash": "cf92aa13fedf815d5c8dd192b8d835913fde3e8bc926b2a0ad6cc74ef2ba3ca2"
   }
  }
 },
 "nbformat": 4,
 "nbformat_minor": 2
}
